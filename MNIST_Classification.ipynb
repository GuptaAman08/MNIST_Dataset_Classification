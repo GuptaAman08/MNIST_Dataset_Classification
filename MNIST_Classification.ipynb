{
  "nbformat": 4,
  "nbformat_minor": 0,
  "metadata": {
    "colab": {
      "name": "Copy of Mnist_Classification.ipynb",
      "version": "0.3.2",
      "provenance": []
    },
    "kernelspec": {
      "name": "python3",
      "display_name": "Python 3"
    }
  },
  "cells": [
    {
      "cell_type": "code",
      "metadata": {
        "id": "mkoRsa3y3EMe",
        "colab_type": "code",
        "colab": {}
      },
      "source": [
        "import torch\n",
        "import torch.nn as nn\n",
        "import torchvision\n",
        "import torchvision.transforms as transforms\n",
        "import numpy as np\n",
        "from skimage import io\n",
        "import glob"
      ],
      "execution_count": 0,
      "outputs": []
    },
    {
      "cell_type": "code",
      "metadata": {
        "id": "EDeh4zSJGgJE",
        "colab_type": "code",
        "colab": {}
      },
      "source": [
        "!cp -r \"/content/myDrive/My Drive/Fiverr/Aman_Abid_Fiverr/MNIST.zip\" ./"
      ],
      "execution_count": 0,
      "outputs": []
    },
    {
      "cell_type": "code",
      "metadata": {
        "id": "pQ422vdDRbtO",
        "colab_type": "code",
        "outputId": "cfe6f487-0dfb-42fb-b960-001175f94d47",
        "colab": {
          "base_uri": "https://localhost:8080/",
          "height": 275
        }
      },
      "source": [
        "\n",
        "# Downloading the training datasets already available at torchvision datasets\n",
        "train_dataset = torchvision.datasets.MNIST(root='./data',train=True, transform=transforms.ToTensor(), download=True)\n",
        "\n",
        "# Downloading the training datasets already available at torchvision datasets\n",
        "test_dataset = torchvision.datasets.MNIST(root='./data',train=False, transform=transforms.ToTensor(),download = True)\n",
        "\n",
        "# Loading training data from train_dataset in 100 mini-batches each of size 600 as there are 60000 training images in total with shuffling true\n",
        "train_loader = torch.utils.data.DataLoader(dataset=train_dataset, batch_size=100, shuffle=True)\n",
        "\n",
        "# Loading test data from test_dataset in 100 mini-batches (no shuffling done here)\n",
        "test_loader = torch.utils.data.DataLoader(dataset=test_dataset,  batch_size=100, shuffle=False)"
      ],
      "execution_count": 0,
      "outputs": [
        {
          "output_type": "stream",
          "text": [
            "  0%|          | 0/9912422 [00:00<?, ?it/s]"
          ],
          "name": "stderr"
        },
        {
          "output_type": "stream",
          "text": [
            "Downloading http://yann.lecun.com/exdb/mnist/train-images-idx3-ubyte.gz to ./data/MNIST/raw/train-images-idx3-ubyte.gz\n"
          ],
          "name": "stdout"
        },
        {
          "output_type": "stream",
          "text": [
            "9920512it [00:00, 26495768.13it/s]                            \n"
          ],
          "name": "stderr"
        },
        {
          "output_type": "stream",
          "text": [
            "Extracting ./data/MNIST/raw/train-images-idx3-ubyte.gz\n"
          ],
          "name": "stdout"
        },
        {
          "output_type": "stream",
          "text": [
            "32768it [00:00, 445163.71it/s]\n",
            "  1%|          | 16384/1648877 [00:00<00:11, 142023.47it/s]"
          ],
          "name": "stderr"
        },
        {
          "output_type": "stream",
          "text": [
            "Downloading http://yann.lecun.com/exdb/mnist/train-labels-idx1-ubyte.gz to ./data/MNIST/raw/train-labels-idx1-ubyte.gz\n",
            "Extracting ./data/MNIST/raw/train-labels-idx1-ubyte.gz\n",
            "Downloading http://yann.lecun.com/exdb/mnist/t10k-images-idx3-ubyte.gz to ./data/MNIST/raw/t10k-images-idx3-ubyte.gz\n"
          ],
          "name": "stdout"
        },
        {
          "output_type": "stream",
          "text": [
            "1654784it [00:00, 7434973.96it/s]                            \n",
            "8192it [00:00, 178965.36it/s]\n"
          ],
          "name": "stderr"
        },
        {
          "output_type": "stream",
          "text": [
            "Extracting ./data/MNIST/raw/t10k-images-idx3-ubyte.gz\n",
            "Downloading http://yann.lecun.com/exdb/mnist/t10k-labels-idx1-ubyte.gz to ./data/MNIST/raw/t10k-labels-idx1-ubyte.gz\n",
            "Extracting ./data/MNIST/raw/t10k-labels-idx1-ubyte.gz\n",
            "Processing...\n",
            "Done!\n"
          ],
          "name": "stdout"
        }
      ]
    },
    {
      "cell_type": "code",
      "metadata": {
        "id": "7Np1I3UCK2mb",
        "colab_type": "code",
        "colab": {}
      },
      "source": [
        "'''\n",
        "Two layer Neural Network \n",
        "First layer has as many neurons as pixels in a 28x28 size image (that is 784)\n",
        "Hidden layer comprises of 500 neurons\n",
        "Output Layer comprises of 10 neurons\n",
        "\n",
        "'''\n",
        "\n",
        "\n",
        "class NeuralNet(nn.Module):\n",
        "  \"\"\"A Neural Network with a hidden layer\"\"\"\n",
        "  def __init__(self, input_size,hidden_size,output_size):\n",
        "    super(NeuralNet, self).__init__()\n",
        "    self.layer1 = nn.Linear(input_size, hidden_size)\n",
        "    self.layer2 = nn.Linear(hidden_size, output_size)\n",
        "    self.relu = nn.ReLU()\n",
        "\n",
        "#   define forward pass of the network    \n",
        "  def forward(self, x):\n",
        "    output = self.layer1(x)\n",
        "    output = self.relu(output)\n",
        "    output = self.layer2(output)\n",
        "    return output\n",
        "\n",
        "  "
      ],
      "execution_count": 0,
      "outputs": []
    },
    {
      "cell_type": "code",
      "metadata": {
        "id": "TKYEK5N7LHwq",
        "colab_type": "code",
        "colab": {}
      },
      "source": [
        "# define parameters values \n",
        "input_size = 784\n",
        "hidden_size = 500\n",
        "output_size = 10\n",
        "num_epochs = 5\n",
        "\n",
        "\n",
        "learning_rate = 0.001\n",
        "\n",
        "# Initialiaze model with the above parameters\n",
        "model = NeuralNet(input_size,hidden_size, output_size)\n",
        "\n",
        "# Use CrossEntropy Loss which is softmax regression\n",
        "lossFunction = nn.CrossEntropyLoss()\n",
        "\n",
        "# Use Adam optimizer as optimization algorithm instead GradientDescent algorithm\n",
        "optimizer = torch.optim.Adam(model.parameters(), lr=learning_rate)\n"
      ],
      "execution_count": 0,
      "outputs": []
    },
    {
      "cell_type": "code",
      "metadata": {
        "id": "xS1XqkhgMzk5",
        "colab_type": "code",
        "outputId": "edf510a6-395b-4182-81fe-3a99df9e236b",
        "colab": {
          "base_uri": "https://localhost:8080/",
          "height": 527
        }
      },
      "source": [
        "# total_step is number of samples in each batch\n",
        "total_step = len(train_loader)\n",
        "\n",
        "# For 5 epochs train the classifier\n",
        "for epoch in range(num_epochs):\n",
        "\tfor i, (images,labels) in enumerate(train_loader):\n",
        "#     flattens each image in batch as 1-D array .......each array is of size 784(28*28)\n",
        "\t\timages = images.reshape(-1,28*28)\n",
        "\t\t\n",
        "#     out basically gives prediction\n",
        "\t\tout = model(images)\n",
        "  \n",
        "#   Compute loss on predicted labels(out) with ground truth (labels)\n",
        "\t\tloss = lossFunction(out,labels)\n",
        "\n",
        "#  compute gradients with respect to every parameter in one-shot\n",
        "\t\toptimizer.zero_grad()\n",
        "\t\tloss.backward()\n",
        "\t\toptimizer.step()\n",
        "\n",
        "\t\tif (i+1) % 100 == 0:\n",
        "\t\t\tprint('Epoch [{}/{}], Step [{}/{}], Loss: {:.4f}' .format(epoch+1, num_epochs, i+1, total_step, loss.item()))"
      ],
      "execution_count": 0,
      "outputs": [
        {
          "output_type": "stream",
          "text": [
            "Epoch [1/5], Step [100/600], Loss: 0.1708\n",
            "Epoch [1/5], Step [200/600], Loss: 0.2300\n",
            "Epoch [1/5], Step [300/600], Loss: 0.2167\n",
            "Epoch [1/5], Step [400/600], Loss: 0.2304\n",
            "Epoch [1/5], Step [500/600], Loss: 0.2124\n",
            "Epoch [1/5], Step [600/600], Loss: 0.1508\n",
            "Epoch [2/5], Step [100/600], Loss: 0.1449\n",
            "Epoch [2/5], Step [200/600], Loss: 0.0593\n",
            "Epoch [2/5], Step [300/600], Loss: 0.0384\n",
            "Epoch [2/5], Step [400/600], Loss: 0.1200\n",
            "Epoch [2/5], Step [500/600], Loss: 0.1364\n",
            "Epoch [2/5], Step [600/600], Loss: 0.1195\n",
            "Epoch [3/5], Step [100/600], Loss: 0.0332\n",
            "Epoch [3/5], Step [200/600], Loss: 0.0232\n",
            "Epoch [3/5], Step [300/600], Loss: 0.1104\n",
            "Epoch [3/5], Step [400/600], Loss: 0.0462\n",
            "Epoch [3/5], Step [500/600], Loss: 0.1077\n",
            "Epoch [3/5], Step [600/600], Loss: 0.0605\n",
            "Epoch [4/5], Step [100/600], Loss: 0.0764\n",
            "Epoch [4/5], Step [200/600], Loss: 0.0233\n",
            "Epoch [4/5], Step [300/600], Loss: 0.0691\n",
            "Epoch [4/5], Step [400/600], Loss: 0.0628\n",
            "Epoch [4/5], Step [500/600], Loss: 0.0499\n",
            "Epoch [4/5], Step [600/600], Loss: 0.0202\n",
            "Epoch [5/5], Step [100/600], Loss: 0.0633\n",
            "Epoch [5/5], Step [200/600], Loss: 0.0575\n",
            "Epoch [5/5], Step [300/600], Loss: 0.0341\n",
            "Epoch [5/5], Step [400/600], Loss: 0.0161\n",
            "Epoch [5/5], Step [500/600], Loss: 0.0904\n",
            "Epoch [5/5], Step [600/600], Loss: 0.0088\n"
          ],
          "name": "stdout"
        }
      ]
    },
    {
      "cell_type": "code",
      "metadata": {
        "id": "i6_f4JicR6l-",
        "colab_type": "code",
        "outputId": "bed642f0-9c4e-45b4-f08e-e5b7529fcc61",
        "colab": {
          "base_uri": "https://localhost:8080/",
          "height": 3417
        }
      },
      "source": [
        "with torch.no_grad():\n",
        "  correct = 0\n",
        "  total = 0\n",
        "\n",
        "  #   iterate over the test loader to calculate predictions on test dataset\n",
        "  for images,labels in test_loader:\n",
        "    images = images.reshape(-1,28*28)\n",
        "    out = model(images)\n",
        "\n",
        "  #     out\n",
        "    _,predicted = torch.max(out.data,1)\n",
        "# label size basically reprents number of images in each batch\n",
        "# total represents total number of images uptil ith iteration\n",
        "    total += labels.size(0)\n",
        "#     correct is the count for how many images has been correctly classified uptil now\n",
        "    correct += (predicted==labels).sum().item()\n",
        "    print('Accuracy of the network on the 10000 test images: {} %'.format(100 * correct / total))\n"
      ],
      "execution_count": 0,
      "outputs": [
        {
          "output_type": "stream",
          "text": [
            "100\n",
            "Accuracy of the network on the 10000 test images: 100.0 %\n",
            "200\n",
            "Accuracy of the network on the 10000 test images: 99.5 %\n",
            "300\n",
            "Accuracy of the network on the 10000 test images: 98.66666666666667 %\n",
            "400\n",
            "Accuracy of the network on the 10000 test images: 98.25 %\n",
            "500\n",
            "Accuracy of the network on the 10000 test images: 98.2 %\n",
            "600\n",
            "Accuracy of the network on the 10000 test images: 98.33333333333333 %\n",
            "700\n",
            "Accuracy of the network on the 10000 test images: 98.42857142857143 %\n",
            "800\n",
            "Accuracy of the network on the 10000 test images: 98.5 %\n",
            "900\n",
            "Accuracy of the network on the 10000 test images: 98.55555555555556 %\n",
            "1000\n",
            "Accuracy of the network on the 10000 test images: 98.3 %\n",
            "1100\n",
            "Accuracy of the network on the 10000 test images: 98.27272727272727 %\n",
            "1200\n",
            "Accuracy of the network on the 10000 test images: 98.16666666666667 %\n",
            "1300\n",
            "Accuracy of the network on the 10000 test images: 98.0 %\n",
            "1400\n",
            "Accuracy of the network on the 10000 test images: 97.78571428571429 %\n",
            "1500\n",
            "Accuracy of the network on the 10000 test images: 97.8 %\n",
            "1600\n",
            "Accuracy of the network on the 10000 test images: 97.625 %\n",
            "1700\n",
            "Accuracy of the network on the 10000 test images: 97.6470588235294 %\n",
            "1800\n",
            "Accuracy of the network on the 10000 test images: 97.66666666666667 %\n",
            "1900\n",
            "Accuracy of the network on the 10000 test images: 97.57894736842105 %\n",
            "2000\n",
            "Accuracy of the network on the 10000 test images: 97.6 %\n",
            "2100\n",
            "Accuracy of the network on the 10000 test images: 97.42857142857143 %\n",
            "2200\n",
            "Accuracy of the network on the 10000 test images: 97.31818181818181 %\n",
            "2300\n",
            "Accuracy of the network on the 10000 test images: 97.30434782608695 %\n",
            "2400\n",
            "Accuracy of the network on the 10000 test images: 97.33333333333333 %\n",
            "2500\n",
            "Accuracy of the network on the 10000 test images: 97.24 %\n",
            "2600\n",
            "Accuracy of the network on the 10000 test images: 97.3076923076923 %\n",
            "2700\n",
            "Accuracy of the network on the 10000 test images: 97.29629629629629 %\n",
            "2800\n",
            "Accuracy of the network on the 10000 test images: 97.32142857142857 %\n",
            "2900\n",
            "Accuracy of the network on the 10000 test images: 97.3103448275862 %\n",
            "3000\n",
            "Accuracy of the network on the 10000 test images: 97.26666666666667 %\n",
            "3100\n",
            "Accuracy of the network on the 10000 test images: 97.3225806451613 %\n",
            "3200\n",
            "Accuracy of the network on the 10000 test images: 97.34375 %\n",
            "3300\n",
            "Accuracy of the network on the 10000 test images: 97.39393939393939 %\n",
            "3400\n",
            "Accuracy of the network on the 10000 test images: 97.47058823529412 %\n",
            "3500\n",
            "Accuracy of the network on the 10000 test images: 97.42857142857143 %\n",
            "3600\n",
            "Accuracy of the network on the 10000 test images: 97.36111111111111 %\n",
            "3700\n",
            "Accuracy of the network on the 10000 test images: 97.43243243243244 %\n",
            "3800\n",
            "Accuracy of the network on the 10000 test images: 97.36842105263158 %\n",
            "3900\n",
            "Accuracy of the network on the 10000 test images: 97.35897435897436 %\n",
            "4000\n",
            "Accuracy of the network on the 10000 test images: 97.3 %\n",
            "4100\n",
            "Accuracy of the network on the 10000 test images: 97.3170731707317 %\n",
            "4200\n",
            "Accuracy of the network on the 10000 test images: 97.30952380952381 %\n",
            "4300\n",
            "Accuracy of the network on the 10000 test images: 97.23255813953489 %\n",
            "4400\n",
            "Accuracy of the network on the 10000 test images: 97.25 %\n",
            "4500\n",
            "Accuracy of the network on the 10000 test images: 97.24444444444444 %\n",
            "4600\n",
            "Accuracy of the network on the 10000 test images: 97.26086956521739 %\n",
            "4700\n",
            "Accuracy of the network on the 10000 test images: 97.27659574468085 %\n",
            "4800\n",
            "Accuracy of the network on the 10000 test images: 97.3125 %\n",
            "4900\n",
            "Accuracy of the network on the 10000 test images: 97.24489795918367 %\n",
            "5000\n",
            "Accuracy of the network on the 10000 test images: 97.24 %\n",
            "5100\n",
            "Accuracy of the network on the 10000 test images: 97.29411764705883 %\n",
            "5200\n",
            "Accuracy of the network on the 10000 test images: 97.34615384615384 %\n",
            "5300\n",
            "Accuracy of the network on the 10000 test images: 97.37735849056604 %\n",
            "5400\n",
            "Accuracy of the network on the 10000 test images: 97.4074074074074 %\n",
            "5500\n",
            "Accuracy of the network on the 10000 test images: 97.41818181818182 %\n",
            "5600\n",
            "Accuracy of the network on the 10000 test images: 97.46428571428571 %\n",
            "5700\n",
            "Accuracy of the network on the 10000 test images: 97.47368421052632 %\n",
            "5800\n",
            "Accuracy of the network on the 10000 test images: 97.48275862068965 %\n",
            "5900\n",
            "Accuracy of the network on the 10000 test images: 97.50847457627118 %\n",
            "6000\n",
            "Accuracy of the network on the 10000 test images: 97.41666666666667 %\n",
            "6100\n",
            "Accuracy of the network on the 10000 test images: 97.37704918032787 %\n",
            "6200\n",
            "Accuracy of the network on the 10000 test images: 97.40322580645162 %\n",
            "6300\n",
            "Accuracy of the network on the 10000 test images: 97.44444444444444 %\n",
            "6400\n",
            "Accuracy of the network on the 10000 test images: 97.484375 %\n",
            "6500\n",
            "Accuracy of the network on the 10000 test images: 97.52307692307693 %\n",
            "6600\n",
            "Accuracy of the network on the 10000 test images: 97.46969696969697 %\n",
            "6700\n",
            "Accuracy of the network on the 10000 test images: 97.4776119402985 %\n",
            "6800\n",
            "Accuracy of the network on the 10000 test images: 97.48529411764706 %\n",
            "6900\n",
            "Accuracy of the network on the 10000 test images: 97.5072463768116 %\n",
            "7000\n",
            "Accuracy of the network on the 10000 test images: 97.54285714285714 %\n",
            "7100\n",
            "Accuracy of the network on the 10000 test images: 97.5774647887324 %\n",
            "7200\n",
            "Accuracy of the network on the 10000 test images: 97.61111111111111 %\n",
            "7300\n",
            "Accuracy of the network on the 10000 test images: 97.63013698630137 %\n",
            "7400\n",
            "Accuracy of the network on the 10000 test images: 97.66216216216216 %\n",
            "7500\n",
            "Accuracy of the network on the 10000 test images: 97.66666666666667 %\n",
            "7600\n",
            "Accuracy of the network on the 10000 test images: 97.6842105263158 %\n",
            "7700\n",
            "Accuracy of the network on the 10000 test images: 97.71428571428571 %\n",
            "7800\n",
            "Accuracy of the network on the 10000 test images: 97.74358974358974 %\n",
            "7900\n",
            "Accuracy of the network on the 10000 test images: 97.75949367088607 %\n",
            "8000\n",
            "Accuracy of the network on the 10000 test images: 97.775 %\n",
            "8100\n",
            "Accuracy of the network on the 10000 test images: 97.79012345679013 %\n",
            "8200\n",
            "Accuracy of the network on the 10000 test images: 97.8048780487805 %\n",
            "8300\n",
            "Accuracy of the network on the 10000 test images: 97.80722891566265 %\n",
            "8400\n",
            "Accuracy of the network on the 10000 test images: 97.80952380952381 %\n",
            "8500\n",
            "Accuracy of the network on the 10000 test images: 97.81176470588235 %\n",
            "8600\n",
            "Accuracy of the network on the 10000 test images: 97.81395348837209 %\n",
            "8700\n",
            "Accuracy of the network on the 10000 test images: 97.83908045977012 %\n",
            "8800\n",
            "Accuracy of the network on the 10000 test images: 97.86363636363636 %\n",
            "8900\n",
            "Accuracy of the network on the 10000 test images: 97.88764044943821 %\n",
            "9000\n",
            "Accuracy of the network on the 10000 test images: 97.91111111111111 %\n",
            "9100\n",
            "Accuracy of the network on the 10000 test images: 97.9010989010989 %\n",
            "9200\n",
            "Accuracy of the network on the 10000 test images: 97.92391304347827 %\n",
            "9300\n",
            "Accuracy of the network on the 10000 test images: 97.93548387096774 %\n",
            "9400\n",
            "Accuracy of the network on the 10000 test images: 97.95744680851064 %\n",
            "9500\n",
            "Accuracy of the network on the 10000 test images: 97.9578947368421 %\n",
            "9600\n",
            "Accuracy of the network on the 10000 test images: 97.96875 %\n",
            "9700\n",
            "Accuracy of the network on the 10000 test images: 97.94845360824742 %\n",
            "9800\n",
            "Accuracy of the network on the 10000 test images: 97.89795918367346 %\n",
            "9900\n",
            "Accuracy of the network on the 10000 test images: 97.9090909090909 %\n",
            "10000\n",
            "Accuracy of the network on the 10000 test images: 97.92 %\n"
          ],
          "name": "stdout"
        }
      ]
    },
    {
      "cell_type": "code",
      "metadata": {
        "id": "crlwBt-TasrR",
        "colab_type": "code",
        "outputId": "bf0bd529-bf0b-4b48-fbc9-408ec68494a8",
        "colab": {
          "base_uri": "https://localhost:8080/",
          "height": 34
        }
      },
      "source": [
        "import tensorflow as tf\n",
        "print(tf.__version__)"
      ],
      "execution_count": 0,
      "outputs": [
        {
          "output_type": "stream",
          "text": [
            "1.13.1\n"
          ],
          "name": "stdout"
        }
      ]
    },
    {
      "cell_type": "code",
      "metadata": {
        "id": "ii3_k9bEa52i",
        "colab_type": "code",
        "colab": {}
      },
      "source": [
        ""
      ],
      "execution_count": 0,
      "outputs": []
    }
  ]
}